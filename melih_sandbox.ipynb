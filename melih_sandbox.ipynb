{
 "cells": [
  {
   "cell_type": "code",
   "execution_count": 7,
   "metadata": {},
   "outputs": [
    {
     "data": {
      "text/plain": [
       "' from src.utils import remove_brackets_in_categorical_values\\nfrom src.data_management.cleaning_helpers.renaming_replacing import set_types_file\\nfrom src.data_management.cleaning_helpers.data_checks import general_data_checks '"
      ]
     },
     "execution_count": 7,
     "metadata": {},
     "output_type": "execute_result"
    }
   ],
   "source": [
    "from src.config import BLD\n",
    "from src.config import SRC\n",
    "import pandas as pd\n",
    "import numpy as np\n",
    "from pathlib import Path\n",
    "import matplotlib.pyplot as plt\n",
    "\n",
    "\"\"\" from src.utils import remove_brackets_in_categorical_values\n",
    "from src.data_management.cleaning_helpers.renaming_replacing import set_types_file\n",
    "from src.data_management.cleaning_helpers.data_checks import general_data_checks \"\"\""
   ]
  },
  {
   "cell_type": "code",
   "execution_count": 2,
   "metadata": {},
   "outputs": [],
   "source": [
    "df_h=pd.read_stata(\"src/original_data/HHENDDAT_cf_W11.dta\",convert_categoricals=False)"
   ]
  },
  {
   "cell_type": "code",
   "execution_count": 3,
   "metadata": {},
   "outputs": [],
   "source": [
    "df_p=pd.read_stata(\"src/original_data/PENDDAT_cf_W11.dta\",convert_categoricals=False)"
   ]
  },
  {
   "cell_type": "code",
   "execution_count": 2,
   "metadata": {},
   "outputs": [],
   "source": [
    "df_h_c = pd.read_pickle(BLD/\"HHENDDAT_clean.pickle\")\n"
   ]
  },
  {
   "cell_type": "code",
   "execution_count": 3,
   "metadata": {},
   "outputs": [],
   "source": [
    "df_p_c = pd.read_pickle(BLD/\"PENDDAT_clean.pickle\")\n"
   ]
  },
  {
   "cell_type": "code",
   "execution_count": 11,
   "metadata": {},
   "outputs": [],
   "source": [
    "x = df_p_c.groupby(\"wave\").count()[\"p_id\"].reset_index()[\"wave\"]\n",
    "y = df_p_c.groupby(\"wave\").count()[\"p_id\"].reset_index()[\"p_id\"]"
   ]
  },
  {
   "cell_type": "code",
   "execution_count": 30,
   "metadata": {},
   "outputs": [
    {
     "data": {
      "image/png": "[encoded data removed]",
      "text/plain": [
       "<Figure size 1008x504 with 2 Axes>"
      ]
     },
     "metadata": {
      "needs_background": "light"
     },
     "output_type": "display_data"
    }
   ],
   "source": [
    "# number of observation per wave\n",
    "fig, (ax1,ax2) = plt.subplots(1,2,figsize=(14,7))\n",
    "ax1.scatter(x,y)\n",
    "ax2.stem(x,y)\n",
    "plt.xticks(x)\n",
    "plt.show()"
   ]
  },
  {
   "cell_type": "code",
   "execution_count": 103,
   "metadata": {},
   "outputs": [
    {
     "data": {
      "text/plain": [
       "0     15.0\n",
       "1     16.0\n",
       "2     17.0\n",
       "3     18.0\n",
       "4     19.0\n",
       "      ... \n",
       "73    88.0\n",
       "74    89.0\n",
       "75    90.0\n",
       "76    91.0\n",
       "77    94.0\n",
       "Name: age, Length: 78, dtype: float64"
      ]
     },
     "execution_count": 103,
     "metadata": {},
     "output_type": "execute_result"
    }
   ],
   "source": [
    "df_p_c.iloc[df_p_c.index.get_level_values('wave') == 11].groupby(\"age\").count()[\"p_id\"].reset_index()[\"age\"]"
   ]
  },
  {
   "cell_type": "code",
   "execution_count": 125,
   "metadata": {},
   "outputs": [
    {
     "data": {
      "image/png": "[encoded data removed]",
      "text/plain": [
       "<Figure size 1008x504 with 2 Axes>"
      ]
     },
     "metadata": {
      "needs_background": "light"
     },
     "output_type": "display_data"
    }
   ],
   "source": [
    "# number of observation per age\n",
    "x=df_p_c.iloc[df_p_c.index.get_level_values('wave') == 11].groupby(\"age\").count()[\"p_id\"].reset_index()[\"age\"]\n",
    "y=df_p_c.iloc[df_p_c.index.get_level_values('wave') == 11].groupby(\"age\").count()[\"p_id\"].reset_index()[\"p_id\"]\n",
    "#x=df_p_c.groupby(\"age\").count()[\"p_id\"].reset_index()[\"age\"]\n",
    "#y=df_p_c.groupby(\"age\").count()[\"p_id\"].reset_index()[\"p_id\"]\n",
    "#.count()[\"p_id\"].reset_index()[\"wave\"]\n",
    "fig, (ax1,ax2) = plt.subplots(1,2,figsize=(14,7))\n",
    "ax1.scatter(x,y)\n",
    "ax2.bar(x,y)\n",
    "#plt.xticks(x)\n",
    "plt.savefig(BLD /\"figure.png\")\n",
    "plt.show()\n"
   ]
  },
  {
   "cell_type": "code",
   "execution_count": 72,
   "metadata": {},
   "outputs": [
    {
     "ename": "AttributeError",
     "evalue": "'Categorical' object has no attribute 'hist'",
     "output_type": "error",
     "traceback": [
      "\u001b[1;31m---------------------------------------------------------------------------\u001b[0m",
      "\u001b[1;31mAttributeError\u001b[0m                            Traceback (most recent call last)",
      "\u001b[1;32mc:\\Project\\EPP_project\\pass_data_preparation\\melih_sandbox.ipynb Cell 10'\u001b[0m in \u001b[0;36m<module>\u001b[1;34m\u001b[0m\n\u001b[1;32m----> <a href='vscode-notebook-cell:/c%3A/Project/EPP_project/pass_data_preparation/melih_sandbox.ipynb#ch0000032?line=0'>1</a>\u001b[0m pd\u001b[39m.\u001b[39;49mCategorical(df_p_c\u001b[39m.\u001b[39;49msex)\u001b[39m.\u001b[39;49mrename_categories({\u001b[39m1.0\u001b[39;49m:\u001b[39m\"\u001b[39;49m\u001b[39mmale\u001b[39;49m\u001b[39m\"\u001b[39;49m,\u001b[39m2.0\u001b[39;49m:\u001b[39m\"\u001b[39;49m\u001b[39mfemale\u001b[39;49m\u001b[39m\"\u001b[39;49m})\u001b[39m.\u001b[39;49mhist()\n",
      "\u001b[1;31mAttributeError\u001b[0m: 'Categorical' object has no attribute 'hist'"
     ]
    }
   ],
   "source": [
    "pd.Categorical(df_p_c.sex).rename_categories({1.0:\"male\",2.0:\"female\"})"
   ]
  },
  {
   "cell_type": "code",
   "execution_count": 112,
   "metadata": {},
   "outputs": [
    {
     "data": {
      "text/html": [
       "<div>\n",
       "<style scoped>\n",
       "    .dataframe tbody tr th:only-of-type {\n",
       "        vertical-align: middle;\n",
       "    }\n",
       "\n",
       "    .dataframe tbody tr th {\n",
       "        vertical-align: top;\n",
       "    }\n",
       "\n",
       "    .dataframe thead th {\n",
       "        text-align: right;\n",
       "    }\n",
       "</style>\n",
       "<table border=\"1\" class=\"dataframe\">\n",
       "  <thead>\n",
       "    <tr style=\"text-align: right;\">\n",
       "      <th></th>\n",
       "      <th>p_id</th>\n",
       "      <th>survey_year</th>\n",
       "      <th>survey_mon</th>\n",
       "      <th>age</th>\n",
       "      <th>religiosity</th>\n",
       "      <th>PA0100</th>\n",
       "      <th>PA0300</th>\n",
       "      <th>PA0800</th>\n",
       "      <th>PA0900</th>\n",
       "      <th>PA1000</th>\n",
       "      <th>...</th>\n",
       "      <th>b5_open</th>\n",
       "      <th>eri_effort</th>\n",
       "      <th>eri_reward</th>\n",
       "      <th>genrole_traditional</th>\n",
       "      <th>sex_dummy</th>\n",
       "      <th>salary_dummy</th>\n",
       "      <th>PG0100_dummy</th>\n",
       "      <th>PSM0100_dummy</th>\n",
       "      <th>PSK0100_dummy</th>\n",
       "      <th>unemp_dummy</th>\n",
       "    </tr>\n",
       "    <tr>\n",
       "      <th>sex</th>\n",
       "      <th></th>\n",
       "      <th></th>\n",
       "      <th></th>\n",
       "      <th></th>\n",
       "      <th></th>\n",
       "      <th></th>\n",
       "      <th></th>\n",
       "      <th></th>\n",
       "      <th></th>\n",
       "      <th></th>\n",
       "      <th></th>\n",
       "      <th></th>\n",
       "      <th></th>\n",
       "      <th></th>\n",
       "      <th></th>\n",
       "      <th></th>\n",
       "      <th></th>\n",
       "      <th></th>\n",
       "      <th></th>\n",
       "      <th></th>\n",
       "      <th></th>\n",
       "    </tr>\n",
       "  </thead>\n",
       "  <tbody>\n",
       "    <tr>\n",
       "      <th>1.0</th>\n",
       "      <td>1145</td>\n",
       "      <td>1145</td>\n",
       "      <td>1145</td>\n",
       "      <td>1145</td>\n",
       "      <td>173</td>\n",
       "      <td>1145</td>\n",
       "      <td>1144</td>\n",
       "      <td>1137</td>\n",
       "      <td>1134</td>\n",
       "      <td>1144</td>\n",
       "      <td>...</td>\n",
       "      <td>0</td>\n",
       "      <td>0</td>\n",
       "      <td>0</td>\n",
       "      <td>0</td>\n",
       "      <td>1145</td>\n",
       "      <td>934</td>\n",
       "      <td>1143</td>\n",
       "      <td>938</td>\n",
       "      <td>1144</td>\n",
       "      <td>934</td>\n",
       "    </tr>\n",
       "    <tr>\n",
       "      <th>2.0</th>\n",
       "      <td>1239</td>\n",
       "      <td>1239</td>\n",
       "      <td>1239</td>\n",
       "      <td>1239</td>\n",
       "      <td>146</td>\n",
       "      <td>1239</td>\n",
       "      <td>1239</td>\n",
       "      <td>1234</td>\n",
       "      <td>1230</td>\n",
       "      <td>1236</td>\n",
       "      <td>...</td>\n",
       "      <td>0</td>\n",
       "      <td>0</td>\n",
       "      <td>0</td>\n",
       "      <td>0</td>\n",
       "      <td>1239</td>\n",
       "      <td>1036</td>\n",
       "      <td>1237</td>\n",
       "      <td>991</td>\n",
       "      <td>1237</td>\n",
       "      <td>1036</td>\n",
       "    </tr>\n",
       "  </tbody>\n",
       "</table>\n",
       "<p>2 rows × 108 columns</p>\n",
       "</div>"
      ],
      "text/plain": [
       "     p_id  survey_year  survey_mon   age  religiosity  PA0100  PA0300  PA0800  \\\n",
       "sex                                                                             \n",
       "1.0  1145         1145        1145  1145          173    1145    1144    1137   \n",
       "2.0  1239         1239        1239  1239          146    1239    1239    1234   \n",
       "\n",
       "     PA0900  PA1000  ...  b5_open  eri_effort  eri_reward  \\\n",
       "sex                  ...                                    \n",
       "1.0    1134    1144  ...        0           0           0   \n",
       "2.0    1230    1236  ...        0           0           0   \n",
       "\n",
       "     genrole_traditional  sex_dummy  salary_dummy  PG0100_dummy  \\\n",
       "sex                                                               \n",
       "1.0                    0       1145           934          1143   \n",
       "2.0                    0       1239          1036          1237   \n",
       "\n",
       "     PSM0100_dummy  PSK0100_dummy  unemp_dummy  \n",
       "sex                                             \n",
       "1.0            938           1144          934  \n",
       "2.0            991           1237         1036  \n",
       "\n",
       "[2 rows x 108 columns]"
      ]
     },
     "execution_count": 112,
     "metadata": {},
     "output_type": "execute_result"
    }
   ],
   "source": [
    "df_p_c.iloc[df_p_c.index.get_level_values('wave') == 11].groupby(\"sex\").count()"
   ]
  },
  {
   "cell_type": "code",
   "execution_count": 122,
   "metadata": {},
   "outputs": [
    {
     "data": {
      "image/png": "[encoded data removed]",
      "text/plain": [
       "<Figure size 864x432 with 1 Axes>"
      ]
     },
     "metadata": {
      "needs_background": "light"
     },
     "output_type": "display_data"
    }
   ],
   "source": [
    "x=df_p_c.iloc[df_p_c.index.get_level_values('wave') == 11].groupby(\"sex\").count()[\"p_id\"].reset_index()[\"sex\"]\n",
    "y=df_p_c.iloc[df_p_c.index.get_level_values('wave') == 11].groupby(\"sex\").count()[\"p_id\"].reset_index()[\"p_id\"]\n",
    "fig, ax = plt.subplots(figsize=(12,6))\n",
    "#ax.bar(pd.Categorical(df_p_c.sex).rename_categories({1.0:\"male\",2.0:\"female\"}))\n",
    "ax.bar(x,y,width=0.7)\n",
    "plt.xticks([1,2],[\"male\",\"female\"])\n",
    "\n",
    "plt.show()"
   ]
  },
  {
   "cell_type": "code",
   "execution_count": 6,
   "metadata": {},
   "outputs": [
    {
     "data": {
      "text/html": [
       "<div>\n",
       "<style scoped>\n",
       "    .dataframe tbody tr th:only-of-type {\n",
       "        vertical-align: middle;\n",
       "    }\n",
       "\n",
       "    .dataframe tbody tr th {\n",
       "        vertical-align: top;\n",
       "    }\n",
       "\n",
       "    .dataframe thead th {\n",
       "        text-align: right;\n",
       "    }\n",
       "</style>\n",
       "<table border=\"1\" class=\"dataframe\">\n",
       "  <thead>\n",
       "    <tr style=\"text-align: right;\">\n",
       "      <th></th>\n",
       "      <th></th>\n",
       "      <th>HLS0900b_1.0</th>\n",
       "      <th>HLS0900b_2.0</th>\n",
       "      <th>HLS0900b_nan</th>\n",
       "    </tr>\n",
       "    <tr>\n",
       "      <th>hh_id</th>\n",
       "      <th>wave</th>\n",
       "      <th></th>\n",
       "      <th></th>\n",
       "      <th></th>\n",
       "    </tr>\n",
       "  </thead>\n",
       "  <tbody>\n",
       "    <tr>\n",
       "      <th rowspan=\"2\" valign=\"top\">10000019.0</th>\n",
       "      <th>1.0</th>\n",
       "      <td>NaN</td>\n",
       "      <td>NaN</td>\n",
       "      <td>1</td>\n",
       "    </tr>\n",
       "    <tr>\n",
       "      <th>3.0</th>\n",
       "      <td>NaN</td>\n",
       "      <td>NaN</td>\n",
       "      <td>1</td>\n",
       "    </tr>\n",
       "    <tr>\n",
       "      <th rowspan=\"3\" valign=\"top\">10000020.0</th>\n",
       "      <th>1.0</th>\n",
       "      <td>NaN</td>\n",
       "      <td>NaN</td>\n",
       "      <td>1</td>\n",
       "    </tr>\n",
       "    <tr>\n",
       "      <th>2.0</th>\n",
       "      <td>NaN</td>\n",
       "      <td>NaN</td>\n",
       "      <td>1</td>\n",
       "    </tr>\n",
       "    <tr>\n",
       "      <th>3.0</th>\n",
       "      <td>NaN</td>\n",
       "      <td>NaN</td>\n",
       "      <td>1</td>\n",
       "    </tr>\n",
       "    <tr>\n",
       "      <th>...</th>\n",
       "      <th>...</th>\n",
       "      <td>...</td>\n",
       "      <td>...</td>\n",
       "      <td>...</td>\n",
       "    </tr>\n",
       "    <tr>\n",
       "      <th>110002040.0</th>\n",
       "      <th>11.0</th>\n",
       "      <td>NaN</td>\n",
       "      <td>NaN</td>\n",
       "      <td>1</td>\n",
       "    </tr>\n",
       "    <tr>\n",
       "      <th>110002041.0</th>\n",
       "      <th>11.0</th>\n",
       "      <td>NaN</td>\n",
       "      <td>NaN</td>\n",
       "      <td>1</td>\n",
       "    </tr>\n",
       "    <tr>\n",
       "      <th>110002042.0</th>\n",
       "      <th>11.0</th>\n",
       "      <td>1.0</td>\n",
       "      <td>0.0</td>\n",
       "      <td>0</td>\n",
       "    </tr>\n",
       "    <tr>\n",
       "      <th>110002045.0</th>\n",
       "      <th>11.0</th>\n",
       "      <td>NaN</td>\n",
       "      <td>NaN</td>\n",
       "      <td>1</td>\n",
       "    </tr>\n",
       "    <tr>\n",
       "      <th>110002057.0</th>\n",
       "      <th>11.0</th>\n",
       "      <td>NaN</td>\n",
       "      <td>NaN</td>\n",
       "      <td>1</td>\n",
       "    </tr>\n",
       "  </tbody>\n",
       "</table>\n",
       "<p>17874 rows × 3 columns</p>\n",
       "</div>"
      ],
      "text/plain": [
       "                  HLS0900b_1.0  HLS0900b_2.0  HLS0900b_nan\n",
       "hh_id       wave                                          \n",
       "10000019.0  1.0            NaN           NaN             1\n",
       "            3.0            NaN           NaN             1\n",
       "10000020.0  1.0            NaN           NaN             1\n",
       "            2.0            NaN           NaN             1\n",
       "            3.0            NaN           NaN             1\n",
       "...                        ...           ...           ...\n",
       "110002040.0 11.0           NaN           NaN             1\n",
       "110002041.0 11.0           NaN           NaN             1\n",
       "110002042.0 11.0           1.0           0.0             0\n",
       "110002045.0 11.0           NaN           NaN             1\n",
       "110002057.0 11.0           NaN           NaN             1\n",
       "\n",
       "[17874 rows x 3 columns]"
      ]
     },
     "execution_count": 6,
     "metadata": {},
     "output_type": "execute_result"
    }
   ],
   "source": [
    "dummy_b=pd.get_dummies(df_h_c['HLS0900b'],prefix=\"HLS0900b\",dummy_na=True)\n",
    "dummy_b.loc[dummy_b.HLS0900b_nan==1,[\"HLS0900b_1.0\",\"HLS0900b_2.0\"]]=np.nan\n",
    "dummy_b"
   ]
  },
  {
   "cell_type": "code",
   "execution_count": 123,
   "metadata": {},
   "outputs": [],
   "source": [
    "if df_h_c[\"HLS0900b\"] == 1:\n",
    "    df_h_c[\"HLS0900b_d\"] = 1\n",
    "elif (df_h_c[\"HLS0900b\"]==2 | df_h_c[\"HLS0900a\"]==1):\n",
    "    df_h_c[\"HLS0900b_d\"] = 0\n",
    "else:\n",
    "    df_h_c[\"HLS0900b_d\"] =np.nan"
   ]
  },
  {
   "cell_type": "code",
   "execution_count": null,
   "metadata": {},
   "outputs": [],
   "source": [
    "def create_dummies_depr(dummies_h=None):\n",
    "    df_h = pd.read_pickle(BLD / \"HHENDDAT_clean.pickle\")\n",
    "    if dummies_h is None:\n",
    "        dummies_h = Path(SRC / \"data_management/dummies/HHENDDAT_dummies.yaml\")\n",
    "    with open(dummies_h) as stream:\n",
    "        dummies_h = yaml.safe_load(stream)[\"deprivation\"]\n",
    "    for dummies in dummies_h:\n",
    "        df_h[df_h[f\"{dummies}_b\"] == 1,\"HLS0900_dummies\"]=1\n",
    "        df_h[df_h[f\"{dummies}_b\"] == 2 ,\"HLS0900_dummies\"]=0\n",
    "        df_h[df_h[f\"{dummies}_a\"] == 1 ,\"HLS0900_dummies\"]=0\n",
    "    return df_h\n"
   ]
  },
  {
   "cell_type": "code",
   "execution_count": 168,
   "metadata": {},
   "outputs": [],
   "source": [
    "df_h_c.loc[df_h_c[\"HLS0900b\"] == 1,\"HLS0900b_d\"]=1"
   ]
  },
  {
   "cell_type": "code",
   "execution_count": 32,
   "metadata": {},
   "outputs": [],
   "source": [
    " # df = pd.concat([df, pd.get_dummies(df['YEAR'])], axis=1)\n",
    " # It is better to include inplace=True when writing the function\n",
    "sex_dummy = pd.get_dummies(df_p_c['sex'],prefix=\"sex\",).rename(columns = {'sex_1.0': 'sex_male', 'sex_2.0': 'sex_female'})\n",
    "salary_dummy=pd.get_dummies(df_p_c[\"salary\"],prefix=\"salary\",).rename(columns = {'salary_1.0': 'salary_emp', 'salary_2.0': 'salary_nemp'})\n",
    "df_p_c['doc_dummy']=(df_p_c['PG0100'] > 0).astype(int)\n",
    "social_media_dummy=pd.get_dummies(df_p_c['PSM0100'],prefix=\"soc_med\").rename(columns = {'soc_med_1.0': 'soc_med_use', 'soc_med_2.0': 'soc_med_no_use'})\n",
    "close_friend_dummy= pd.get_dummies(df_p_c['PSK0100'],prefix=\"close_friend\").rename(columns = {'close_friend_1.0': 'close_friend', 'close_friend_2.0': 'close_friend_no'})\n",
    "# HH variables\n",
    "alg2_dummy=pd.get_dummies(df_h_c['hh_alg2'],prefix=\"hh_alg2\").rename(columns = {'hh_alg2_1.0': 'hh_alg2_receiving', 'hh_alg2_2.0': 'hh_alg2_notreceiving'})\n",
    "child_benefit_dummy=pd.get_dummies(df_h_c['child_benefit'],prefix=\"child_benefit\").rename(columns = {'child_benefit_1.0': 'child_benefit_receive', 'child_benefit_2.0': 'child_benefit_notreceiving'})"
   ]
  },
  {
   "cell_type": "code",
   "execution_count": 63,
   "metadata": {},
   "outputs": [],
   "source": [
    "def create_dummies(dummies_p= None, dummies_h=None):\n",
    "    df_p = pd.read_pickle(BLD/\"PENDDAT_clean.pickle\")\n",
    "    df_h = pd.read_pickle(BLD/\"HHENDDAT_clean.pickle\")\n",
    "    if dummies_p == None:\n",
    "        dummies_p=Path(SRC / \"data_management/dummies/PENDDAT_dummies.yaml\")\n",
    "    if dummies_h == None:\n",
    "        dummies_h=Path(SRC / \"data_management/dummies/HHENDDAT_dummies.yaml\")\n",
    "    with open(dummies_p, 'r') as stream:\n",
    "        dummies_p = yaml.safe_load(stream)\n",
    "    with open(dummies_h, 'r') as stream:\n",
    "        dummies_h = yaml.safe_load(stream)\n",
    "    for dummies in dummies_p:\n",
    "        if dummies == \"PG0100\":\n",
    "            df_p[f\"{dummies}_d\"] = (df_p[f'{dummies}'] > 0).astype(int)    \n",
    "        else:\n",
    "            df_p=pd.concat([df_p,pd.get_dummies(df_p[f'{dummies}'],prefix=f\"{dummies}\").rename(columns = {f'{dummies}_1.0': f'{dummies}_d'}) ], axis=1).drop(f'{dummies}_2.0', axis=1)\n",
    "    for dummies in dummies_h:\n",
    "        df_h=pd.concat([df_h,pd.get_dummies(df_h[f'{dummies}'],prefix=f\"{dummies}\").rename(columns = {f'{dummies}_1.0': f'{dummies}_d'}) ], axis=1).drop(f'{dummies}_2.0', axis=1)\n",
    "    return (df_p , df_h)"
   ]
  },
  {
   "cell_type": "code",
   "execution_count": 67,
   "metadata": {},
   "outputs": [
    {
     "data": {
      "text/html": [
       "<div>\n",
       "<style scoped>\n",
       "    .dataframe tbody tr th:only-of-type {\n",
       "        vertical-align: middle;\n",
       "    }\n",
       "\n",
       "    .dataframe tbody tr th {\n",
       "        vertical-align: top;\n",
       "    }\n",
       "\n",
       "    .dataframe thead th {\n",
       "        text-align: right;\n",
       "    }\n",
       "</style>\n",
       "<table border=\"1\" class=\"dataframe\">\n",
       "  <thead>\n",
       "    <tr style=\"text-align: right;\">\n",
       "      <th></th>\n",
       "      <th></th>\n",
       "      <th>sex_male</th>\n",
       "      <th>sex_female</th>\n",
       "    </tr>\n",
       "    <tr>\n",
       "      <th>hh_id</th>\n",
       "      <th>wave</th>\n",
       "      <th></th>\n",
       "      <th></th>\n",
       "    </tr>\n",
       "  </thead>\n",
       "  <tbody>\n",
       "    <tr>\n",
       "      <th rowspan=\"3\" valign=\"top\">10000019.0</th>\n",
       "      <th>1.0</th>\n",
       "      <td>0</td>\n",
       "      <td>1</td>\n",
       "    </tr>\n",
       "    <tr>\n",
       "      <th>1.0</th>\n",
       "      <td>1</td>\n",
       "      <td>0</td>\n",
       "    </tr>\n",
       "    <tr>\n",
       "      <th>3.0</th>\n",
       "      <td>0</td>\n",
       "      <td>1</td>\n",
       "    </tr>\n",
       "    <tr>\n",
       "      <th rowspan=\"2\" valign=\"top\">10000020.0</th>\n",
       "      <th>1.0</th>\n",
       "      <td>1</td>\n",
       "      <td>0</td>\n",
       "    </tr>\n",
       "    <tr>\n",
       "      <th>1.0</th>\n",
       "      <td>0</td>\n",
       "      <td>1</td>\n",
       "    </tr>\n",
       "    <tr>\n",
       "      <th>...</th>\n",
       "      <th>...</th>\n",
       "      <td>...</td>\n",
       "      <td>...</td>\n",
       "    </tr>\n",
       "    <tr>\n",
       "      <th>110002041.0</th>\n",
       "      <th>11.0</th>\n",
       "      <td>1</td>\n",
       "      <td>0</td>\n",
       "    </tr>\n",
       "    <tr>\n",
       "      <th rowspan=\"2\" valign=\"top\">110002042.0</th>\n",
       "      <th>11.0</th>\n",
       "      <td>1</td>\n",
       "      <td>0</td>\n",
       "    </tr>\n",
       "    <tr>\n",
       "      <th>11.0</th>\n",
       "      <td>1</td>\n",
       "      <td>0</td>\n",
       "    </tr>\n",
       "    <tr>\n",
       "      <th>110002045.0</th>\n",
       "      <th>11.0</th>\n",
       "      <td>1</td>\n",
       "      <td>0</td>\n",
       "    </tr>\n",
       "    <tr>\n",
       "      <th>110002057.0</th>\n",
       "      <th>11.0</th>\n",
       "      <td>1</td>\n",
       "      <td>0</td>\n",
       "    </tr>\n",
       "  </tbody>\n",
       "</table>\n",
       "<p>25474 rows × 2 columns</p>\n",
       "</div>"
      ],
      "text/plain": [
       "                  sex_male  sex_female\n",
       "hh_id       wave                      \n",
       "10000019.0  1.0          0           1\n",
       "            1.0          1           0\n",
       "            3.0          0           1\n",
       "10000020.0  1.0          1           0\n",
       "            1.0          0           1\n",
       "...                    ...         ...\n",
       "110002041.0 11.0         1           0\n",
       "110002042.0 11.0         1           0\n",
       "            11.0         1           0\n",
       "110002045.0 11.0         1           0\n",
       "110002057.0 11.0         1           0\n",
       "\n",
       "[25474 rows x 2 columns]"
      ]
     },
     "execution_count": 67,
     "metadata": {},
     "output_type": "execute_result"
    }
   ],
   "source": [
    " pd.get_dummies(df_p_c['sex'],prefix=\"sex\",).rename(columns = {'sex_1.0': 'sex_male', 'sex_2.0': 'sex_female'})"
   ]
  },
  {
   "cell_type": "code",
   "execution_count": 34,
   "metadata": {},
   "outputs": [
    {
     "data": {
      "text/plain": [
       "['sex', 'salary', 'PG0100', 'PSM0100', 'PSK0100']"
      ]
     },
     "execution_count": 34,
     "metadata": {},
     "output_type": "execute_result"
    }
   ],
   "source": [
    "import yaml\n",
    "with open(\"C:\\Project\\EPP_project\\pass_data_preparation\\src\\data_management\\PENDDAT\\PENDDAT_dummies.yaml\", 'r') as stream:\n",
    "    out = yaml.safe_load(stream)\n",
    "out"
   ]
  },
  {
   "cell_type": "code",
   "execution_count": null,
   "metadata": {},
   "outputs": [],
   "source": [
    "new_names=pd.read_csv(\"src/data_management/PENDDAT/penddat_renaming.csv\",sep=\";\")[\"new_name\"]"
   ]
  },
  {
   "cell_type": "code",
   "execution_count": null,
   "metadata": {},
   "outputs": [],
   "source": [
    "renaming_dict=dict(zip(df.columns,new_names))"
   ]
  },
  {
   "cell_type": "code",
   "execution_count": null,
   "metadata": {},
   "outputs": [],
   "source": [
    "renaming_dict = {k: v for k, v in renaming_dict.items() if pd.notna(v)}"
   ]
  },
  {
   "cell_type": "code",
   "execution_count": null,
   "metadata": {},
   "outputs": [],
   "source": [
    "def _renaming_columns(path):\n",
    "    df=pd.read_stata(path,convert_categoricals=False)\n",
    "    new_names=pd.read_csv(\"src/data_management/PENDDAT/penddat_renaming.csv\",sep=\";\")[\"new_name\"]\n",
    "    renaming_dict=dict(zip(df.columns,new_names))\n",
    "    renaming_dict = {k: v for k, v in renaming_dict.items() if pd.notna(v)}\n",
    "    return df.rename(columns=renaming_dict)"
   ]
  },
  {
   "cell_type": "code",
   "execution_count": null,
   "metadata": {},
   "outputs": [],
   "source": [
    "def _replacing_negative(df,negatives=list(range(-1,-11,-1))):\n",
    "    for i in negatives:\n",
    "        df[df==i]=np.nan\n",
    "    return df\n"
   ]
  },
  {
   "cell_type": "code",
   "execution_count": 4,
   "metadata": {},
   "outputs": [],
   "source": [
    "import os\n",
    "from pathlib import Path\n",
    "import glob"
   ]
  },
  {
   "cell_type": "code",
   "execution_count": 12,
   "metadata": {},
   "outputs": [],
   "source": [
    "files = [file for file in glob.glob(\"C:\\Project\\EPP_project\\pass_data_preparation\\src\\original_data\\*\")]"
   ]
  },
  {
   "cell_type": "code",
   "execution_count": 1,
   "metadata": {},
   "outputs": [],
   "source": [
    "def get_names_dataset(path=\"C:\\Project\\EPP_project\\pass_data_preparation\\src\\original_data\"):\n",
    "    a = r\"\\*\"\n",
    "    files = list(glob.glob(path + f\"{a}\"))\n",
    "    #[file for file in glob.glob(path+f\"\\*\")]\n",
    "    name=[]\n",
    "    for i in range(len(files)):\n",
    "        if any(x.isupper() for x in files[i].split(\"\\\\\")[-1].split(\"_\")[0]):\n",
    "            name.append(files[i].split(\"\\\\\")[-1].split(\"_\")[0])\n",
    "        else:\n",
    "            #a=files[i].split(\"\\\\\")[6].split(\"_\")[0:2]\n",
    "            name.append(files[i].split(\"\\\\\")[-1].split(\"_\")[0]+\"_\"+files[i].split(\"\\\\\")[-1].split(\"_\")[1])\n",
    "    return name \n",
    "    "
   ]
  },
  {
   "cell_type": "code",
   "execution_count": null,
   "metadata": {},
   "outputs": [],
   "source": []
  }
 ],
 "metadata": {
  "interpreter": {
   "hash": "3f68d72b48bbb1cd886cae2fd8cb3e5126080783d71763ddf61896ec9bf39e27"
  },
  "kernelspec": {
   "display_name": "Python 3.9.10 ('pass_data_preparation')",
   "language": "python",
   "name": "python3"
  },
  "language_info": {
   "codemirror_mode": {
    "name": "ipython",
    "version": 3
   },
   "file_extension": ".py",
   "mimetype": "text/x-python",
   "name": "python",
   "nbconvert_exporter": "python",
   "pygments_lexer": "ipython3",
   "version": "3.9.10"
  },
  "orig_nbformat": 4
 },
 "nbformat": 4,
 "nbformat_minor": 2
}
