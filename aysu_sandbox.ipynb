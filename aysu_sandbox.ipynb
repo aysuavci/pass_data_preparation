{
 "cells": [
  {
   "cell_type": "code",
   "execution_count": 2,
   "metadata": {},
   "outputs": [],
   "source": [
    "from src.config import BLD\n",
    "from src.config import SRC\n",
    "import pandas as pd\n",
    "import numpy as np"
   ]
  },
  {
   "cell_type": "code",
   "execution_count": 2,
   "metadata": {},
   "outputs": [],
   "source": [
    "df_h=pd.read_stata(\"src/original_data/HHENDDAT_cf_W11.dta\",convert_categoricals=False)\n",
    "df_p=pd.read_stata(\"src/original_data/PENDDAT_cf_W11.dta\",convert_categoricals=False)"
   ]
  },
  {
   "cell_type": "code",
   "execution_count": 281,
   "metadata": {},
   "outputs": [],
   "source": [
    "df_p_R=pd.read_pickle(\"bld/PENDDAT_clean.pickle\") #read the clean data\n"
   ]
  },
  {
   "cell_type": "markdown",
   "metadata": {},
   "source": [
    "# FUNCTIONS FOR SCALING\n",
    "## BIG FIVE"
   ]
  },
  {
   "cell_type": "code",
   "execution_count": null,
   "metadata": {},
   "outputs": [],
   "source": [
    "#slower then filter, deleted\n",
    "df.loc[:, df.columns.str.contains('_n_')] #select items negatively phrased items"
   ]
  },
  {
   "cell_type": "code",
   "execution_count": 268,
   "metadata": {},
   "outputs": [
    {
     "data": {
      "text/plain": [
       "Index(['p_id', 'survey_year', 'survey_mon', 'sex', 'age', 'religiosity',\n",
       "       'PA0100', 'PA0300', 'PA0800', 'PA0900',\n",
       "       ...\n",
       "       'eri_reward_b', 'eri_reward_c', 'eri_reward_d', 'b5_ext', 'b5_agree',\n",
       "       'b5_consc', 'b5_neu', 'b5_open', 'eri_effort', 'eri_reward'],\n",
       "      dtype='object', length=102)"
      ]
     },
     "execution_count": 268,
     "metadata": {},
     "output_type": "execute_result"
    }
   ],
   "source": [
    "df_p_R.columns"
   ]
  },
  {
   "cell_type": "code",
   "execution_count": 42,
   "metadata": {},
   "outputs": [],
   "source": [
    "\"\"\" def reverse_code_big5(df, negatively_phrased):\n",
    "    for i in negatively_phrased:\n",
    "        df[i] = 6 - df[i] #Subtrack 6 to reverse code(6-1(lowest)=5(highest))\n",
    "    return df \"\"\""
   ]
  },
  {
   "cell_type": "code",
   "execution_count": 43,
   "metadata": {},
   "outputs": [
    {
     "data": {
      "text/html": [
       "<div>\n",
       "<style scoped>\n",
       "    .dataframe tbody tr th:only-of-type {\n",
       "        vertical-align: middle;\n",
       "    }\n",
       "\n",
       "    .dataframe tbody tr th {\n",
       "        vertical-align: top;\n",
       "    }\n",
       "\n",
       "    .dataframe thead th {\n",
       "        text-align: right;\n",
       "    }\n",
       "</style>\n",
       "<table border=\"1\" class=\"dataframe\">\n",
       "  <thead>\n",
       "    <tr style=\"text-align: right;\">\n",
       "      <th></th>\n",
       "      <th></th>\n",
       "      <th>p_id</th>\n",
       "      <th>survey_year</th>\n",
       "      <th>survey_mon</th>\n",
       "      <th>sex</th>\n",
       "      <th>age</th>\n",
       "      <th>religiosity</th>\n",
       "      <th>PA0100</th>\n",
       "      <th>PA0300</th>\n",
       "      <th>PA0800</th>\n",
       "      <th>PA0900</th>\n",
       "      <th>...</th>\n",
       "      <th>job</th>\n",
       "      <th>educ_casmin</th>\n",
       "      <th>net_income</th>\n",
       "      <th>gross_income</th>\n",
       "      <th>job_hours</th>\n",
       "      <th>salary</th>\n",
       "      <th>unemp</th>\n",
       "      <th>isei1</th>\n",
       "      <th>isei2</th>\n",
       "      <th>migration</th>\n",
       "    </tr>\n",
       "    <tr>\n",
       "      <th>hh_id</th>\n",
       "      <th>wave</th>\n",
       "      <th></th>\n",
       "      <th></th>\n",
       "      <th></th>\n",
       "      <th></th>\n",
       "      <th></th>\n",
       "      <th></th>\n",
       "      <th></th>\n",
       "      <th></th>\n",
       "      <th></th>\n",
       "      <th></th>\n",
       "      <th></th>\n",
       "      <th></th>\n",
       "      <th></th>\n",
       "      <th></th>\n",
       "      <th></th>\n",
       "      <th></th>\n",
       "      <th></th>\n",
       "      <th></th>\n",
       "      <th></th>\n",
       "      <th></th>\n",
       "      <th></th>\n",
       "    </tr>\n",
       "  </thead>\n",
       "  <tbody>\n",
       "    <tr>\n",
       "      <th rowspan=\"3\" valign=\"top\">10000019.0</th>\n",
       "      <th>1.0</th>\n",
       "      <td>1.000002e+09</td>\n",
       "      <td>2007</td>\n",
       "      <td>5</td>\n",
       "      <td>2.0</td>\n",
       "      <td>36.0</td>\n",
       "      <td>2.0</td>\n",
       "      <td>8.0</td>\n",
       "      <td>10.0</td>\n",
       "      <td>8.0</td>\n",
       "      <td>6.0</td>\n",
       "      <td>...</td>\n",
       "      <td>4.0</td>\n",
       "      <td>4.0</td>\n",
       "      <td>NaN</td>\n",
       "      <td>NaN</td>\n",
       "      <td>NaN</td>\n",
       "      <td>NaN</td>\n",
       "      <td>NaN</td>\n",
       "      <td>NaN</td>\n",
       "      <td>NaN</td>\n",
       "      <td>1.0</td>\n",
       "    </tr>\n",
       "    <tr>\n",
       "      <th>1.0</th>\n",
       "      <td>1.000002e+09</td>\n",
       "      <td>2007</td>\n",
       "      <td>5</td>\n",
       "      <td>1.0</td>\n",
       "      <td>39.0</td>\n",
       "      <td>2.0</td>\n",
       "      <td>8.0</td>\n",
       "      <td>7.0</td>\n",
       "      <td>8.0</td>\n",
       "      <td>7.0</td>\n",
       "      <td>...</td>\n",
       "      <td>4.0</td>\n",
       "      <td>7.0</td>\n",
       "      <td>3000.0</td>\n",
       "      <td>NaN</td>\n",
       "      <td>NaN</td>\n",
       "      <td>NaN</td>\n",
       "      <td>NaN</td>\n",
       "      <td>59.0</td>\n",
       "      <td>NaN</td>\n",
       "      <td>1.0</td>\n",
       "    </tr>\n",
       "    <tr>\n",
       "      <th>3.0</th>\n",
       "      <td>1.000002e+09</td>\n",
       "      <td>2009</td>\n",
       "      <td>3</td>\n",
       "      <td>2.0</td>\n",
       "      <td>38.0</td>\n",
       "      <td>NaN</td>\n",
       "      <td>9.0</td>\n",
       "      <td>7.0</td>\n",
       "      <td>8.0</td>\n",
       "      <td>7.0</td>\n",
       "      <td>...</td>\n",
       "      <td>4.0</td>\n",
       "      <td>4.0</td>\n",
       "      <td>NaN</td>\n",
       "      <td>NaN</td>\n",
       "      <td>NaN</td>\n",
       "      <td>2.0</td>\n",
       "      <td>2.0</td>\n",
       "      <td>NaN</td>\n",
       "      <td>NaN</td>\n",
       "      <td>1.0</td>\n",
       "    </tr>\n",
       "    <tr>\n",
       "      <th rowspan=\"2\" valign=\"top\">10000020.0</th>\n",
       "      <th>1.0</th>\n",
       "      <td>1.000002e+09</td>\n",
       "      <td>2007</td>\n",
       "      <td>4</td>\n",
       "      <td>1.0</td>\n",
       "      <td>66.0</td>\n",
       "      <td>NaN</td>\n",
       "      <td>8.0</td>\n",
       "      <td>5.0</td>\n",
       "      <td>4.0</td>\n",
       "      <td>3.0</td>\n",
       "      <td>...</td>\n",
       "      <td>4.0</td>\n",
       "      <td>4.0</td>\n",
       "      <td>NaN</td>\n",
       "      <td>NaN</td>\n",
       "      <td>NaN</td>\n",
       "      <td>NaN</td>\n",
       "      <td>NaN</td>\n",
       "      <td>NaN</td>\n",
       "      <td>NaN</td>\n",
       "      <td>NaN</td>\n",
       "    </tr>\n",
       "    <tr>\n",
       "      <th>1.0</th>\n",
       "      <td>1.000002e+09</td>\n",
       "      <td>2007</td>\n",
       "      <td>4</td>\n",
       "      <td>2.0</td>\n",
       "      <td>61.0</td>\n",
       "      <td>3.0</td>\n",
       "      <td>2.0</td>\n",
       "      <td>5.0</td>\n",
       "      <td>NaN</td>\n",
       "      <td>3.0</td>\n",
       "      <td>...</td>\n",
       "      <td>2.0</td>\n",
       "      <td>5.0</td>\n",
       "      <td>NaN</td>\n",
       "      <td>NaN</td>\n",
       "      <td>NaN</td>\n",
       "      <td>NaN</td>\n",
       "      <td>NaN</td>\n",
       "      <td>NaN</td>\n",
       "      <td>NaN</td>\n",
       "      <td>2.0</td>\n",
       "    </tr>\n",
       "    <tr>\n",
       "      <th>...</th>\n",
       "      <th>...</th>\n",
       "      <td>...</td>\n",
       "      <td>...</td>\n",
       "      <td>...</td>\n",
       "      <td>...</td>\n",
       "      <td>...</td>\n",
       "      <td>...</td>\n",
       "      <td>...</td>\n",
       "      <td>...</td>\n",
       "      <td>...</td>\n",
       "      <td>...</td>\n",
       "      <td>...</td>\n",
       "      <td>...</td>\n",
       "      <td>...</td>\n",
       "      <td>...</td>\n",
       "      <td>...</td>\n",
       "      <td>...</td>\n",
       "      <td>...</td>\n",
       "      <td>...</td>\n",
       "      <td>...</td>\n",
       "      <td>...</td>\n",
       "      <td>...</td>\n",
       "    </tr>\n",
       "    <tr>\n",
       "      <th>110002041.0</th>\n",
       "      <th>11.0</th>\n",
       "      <td>1.100020e+10</td>\n",
       "      <td>2017</td>\n",
       "      <td>5</td>\n",
       "      <td>1.0</td>\n",
       "      <td>29.0</td>\n",
       "      <td>2.0</td>\n",
       "      <td>10.0</td>\n",
       "      <td>4.0</td>\n",
       "      <td>8.0</td>\n",
       "      <td>5.0</td>\n",
       "      <td>...</td>\n",
       "      <td>2.0</td>\n",
       "      <td>1.0</td>\n",
       "      <td>NaN</td>\n",
       "      <td>NaN</td>\n",
       "      <td>NaN</td>\n",
       "      <td>2.0</td>\n",
       "      <td>1.0</td>\n",
       "      <td>NaN</td>\n",
       "      <td>NaN</td>\n",
       "      <td>2.0</td>\n",
       "    </tr>\n",
       "    <tr>\n",
       "      <th rowspan=\"2\" valign=\"top\">110002042.0</th>\n",
       "      <th>11.0</th>\n",
       "      <td>1.100020e+10</td>\n",
       "      <td>2017</td>\n",
       "      <td>5</td>\n",
       "      <td>1.0</td>\n",
       "      <td>48.0</td>\n",
       "      <td>3.0</td>\n",
       "      <td>1.0</td>\n",
       "      <td>5.0</td>\n",
       "      <td>8.0</td>\n",
       "      <td>2.0</td>\n",
       "      <td>...</td>\n",
       "      <td>2.0</td>\n",
       "      <td>1.0</td>\n",
       "      <td>NaN</td>\n",
       "      <td>NaN</td>\n",
       "      <td>NaN</td>\n",
       "      <td>2.0</td>\n",
       "      <td>1.0</td>\n",
       "      <td>NaN</td>\n",
       "      <td>NaN</td>\n",
       "      <td>2.0</td>\n",
       "    </tr>\n",
       "    <tr>\n",
       "      <th>11.0</th>\n",
       "      <td>1.100020e+10</td>\n",
       "      <td>2017</td>\n",
       "      <td>5</td>\n",
       "      <td>1.0</td>\n",
       "      <td>16.0</td>\n",
       "      <td>3.0</td>\n",
       "      <td>10.0</td>\n",
       "      <td>4.0</td>\n",
       "      <td>4.0</td>\n",
       "      <td>7.0</td>\n",
       "      <td>...</td>\n",
       "      <td>2.0</td>\n",
       "      <td>2.0</td>\n",
       "      <td>NaN</td>\n",
       "      <td>NaN</td>\n",
       "      <td>NaN</td>\n",
       "      <td>2.0</td>\n",
       "      <td>1.0</td>\n",
       "      <td>NaN</td>\n",
       "      <td>NaN</td>\n",
       "      <td>2.0</td>\n",
       "    </tr>\n",
       "    <tr>\n",
       "      <th>110002045.0</th>\n",
       "      <th>11.0</th>\n",
       "      <td>1.100020e+10</td>\n",
       "      <td>2017</td>\n",
       "      <td>7</td>\n",
       "      <td>1.0</td>\n",
       "      <td>36.0</td>\n",
       "      <td>2.0</td>\n",
       "      <td>8.0</td>\n",
       "      <td>7.0</td>\n",
       "      <td>7.0</td>\n",
       "      <td>5.0</td>\n",
       "      <td>...</td>\n",
       "      <td>2.0</td>\n",
       "      <td>6.0</td>\n",
       "      <td>NaN</td>\n",
       "      <td>NaN</td>\n",
       "      <td>NaN</td>\n",
       "      <td>2.0</td>\n",
       "      <td>1.0</td>\n",
       "      <td>NaN</td>\n",
       "      <td>NaN</td>\n",
       "      <td>2.0</td>\n",
       "    </tr>\n",
       "    <tr>\n",
       "      <th>110002057.0</th>\n",
       "      <th>11.0</th>\n",
       "      <td>1.100021e+10</td>\n",
       "      <td>2017</td>\n",
       "      <td>8</td>\n",
       "      <td>1.0</td>\n",
       "      <td>32.0</td>\n",
       "      <td>3.0</td>\n",
       "      <td>7.0</td>\n",
       "      <td>7.0</td>\n",
       "      <td>5.0</td>\n",
       "      <td>4.0</td>\n",
       "      <td>...</td>\n",
       "      <td>4.0</td>\n",
       "      <td>7.0</td>\n",
       "      <td>NaN</td>\n",
       "      <td>NaN</td>\n",
       "      <td>NaN</td>\n",
       "      <td>2.0</td>\n",
       "      <td>2.0</td>\n",
       "      <td>NaN</td>\n",
       "      <td>NaN</td>\n",
       "      <td>2.0</td>\n",
       "    </tr>\n",
       "  </tbody>\n",
       "</table>\n",
       "<p>25474 rows × 85 columns</p>\n",
       "</div>"
      ],
      "text/plain": [
       "                          p_id  survey_year  survey_mon  sex   age  \\\n",
       "hh_id       wave                                                     \n",
       "10000019.0  1.0   1.000002e+09         2007           5  2.0  36.0   \n",
       "            1.0   1.000002e+09         2007           5  1.0  39.0   \n",
       "            3.0   1.000002e+09         2009           3  2.0  38.0   \n",
       "10000020.0  1.0   1.000002e+09         2007           4  1.0  66.0   \n",
       "            1.0   1.000002e+09         2007           4  2.0  61.0   \n",
       "...                        ...          ...         ...  ...   ...   \n",
       "110002041.0 11.0  1.100020e+10         2017           5  1.0  29.0   \n",
       "110002042.0 11.0  1.100020e+10         2017           5  1.0  48.0   \n",
       "            11.0  1.100020e+10         2017           5  1.0  16.0   \n",
       "110002045.0 11.0  1.100020e+10         2017           7  1.0  36.0   \n",
       "110002057.0 11.0  1.100021e+10         2017           8  1.0  32.0   \n",
       "\n",
       "                  religiosity  PA0100  PA0300  PA0800  PA0900  ...  job  \\\n",
       "hh_id       wave                                               ...        \n",
       "10000019.0  1.0           2.0     8.0    10.0     8.0     6.0  ...  4.0   \n",
       "            1.0           2.0     8.0     7.0     8.0     7.0  ...  4.0   \n",
       "            3.0           NaN     9.0     7.0     8.0     7.0  ...  4.0   \n",
       "10000020.0  1.0           NaN     8.0     5.0     4.0     3.0  ...  4.0   \n",
       "            1.0           3.0     2.0     5.0     NaN     3.0  ...  2.0   \n",
       "...                       ...     ...     ...     ...     ...  ...  ...   \n",
       "110002041.0 11.0          2.0    10.0     4.0     8.0     5.0  ...  2.0   \n",
       "110002042.0 11.0          3.0     1.0     5.0     8.0     2.0  ...  2.0   \n",
       "            11.0          3.0    10.0     4.0     4.0     7.0  ...  2.0   \n",
       "110002045.0 11.0          2.0     8.0     7.0     7.0     5.0  ...  2.0   \n",
       "110002057.0 11.0          3.0     7.0     7.0     5.0     4.0  ...  4.0   \n",
       "\n",
       "                  educ_casmin  net_income  gross_income  job_hours  salary  \\\n",
       "hh_id       wave                                                             \n",
       "10000019.0  1.0           4.0         NaN           NaN        NaN     NaN   \n",
       "            1.0           7.0      3000.0           NaN        NaN     NaN   \n",
       "            3.0           4.0         NaN           NaN        NaN     2.0   \n",
       "10000020.0  1.0           4.0         NaN           NaN        NaN     NaN   \n",
       "            1.0           5.0         NaN           NaN        NaN     NaN   \n",
       "...                       ...         ...           ...        ...     ...   \n",
       "110002041.0 11.0          1.0         NaN           NaN        NaN     2.0   \n",
       "110002042.0 11.0          1.0         NaN           NaN        NaN     2.0   \n",
       "            11.0          2.0         NaN           NaN        NaN     2.0   \n",
       "110002045.0 11.0          6.0         NaN           NaN        NaN     2.0   \n",
       "110002057.0 11.0          7.0         NaN           NaN        NaN     2.0   \n",
       "\n",
       "                  unemp  isei1  isei2  migration  \n",
       "hh_id       wave                                  \n",
       "10000019.0  1.0     NaN    NaN    NaN        1.0  \n",
       "            1.0     NaN   59.0    NaN        1.0  \n",
       "            3.0     2.0    NaN    NaN        1.0  \n",
       "10000020.0  1.0     NaN    NaN    NaN        NaN  \n",
       "            1.0     NaN    NaN    NaN        2.0  \n",
       "...                 ...    ...    ...        ...  \n",
       "110002041.0 11.0    1.0    NaN    NaN        2.0  \n",
       "110002042.0 11.0    1.0    NaN    NaN        2.0  \n",
       "            11.0    1.0    NaN    NaN        2.0  \n",
       "110002045.0 11.0    1.0    NaN    NaN        2.0  \n",
       "110002057.0 11.0    2.0    NaN    NaN        2.0  \n",
       "\n",
       "[25474 rows x 85 columns]"
      ]
     },
     "execution_count": 43,
     "metadata": {},
     "output_type": "execute_result"
    }
   ],
   "source": [
    "\"\"\" reverse_code_big5(df, df_p_R.filter(regex='_n_')) \"\"\""
   ]
  },
  {
   "cell_type": "code",
   "execution_count": 62,
   "metadata": {},
   "outputs": [
    {
     "data": {
      "text/plain": [
       "False"
      ]
     },
     "execution_count": 62,
     "metadata": {},
     "output_type": "execute_result"
    }
   ],
   "source": [
    "\"b5_ext_n_a\" in df_p_R.filter(regex='_n_') #works"
   ]
  },
  {
   "cell_type": "code",
   "execution_count": 66,
   "metadata": {},
   "outputs": [
    {
     "name": "stdout",
     "output_type": "stream",
     "text": [
      "True\n"
     ]
    }
   ],
   "source": [
    "print(\"b5_ext_n_a\" in df_p_R.filter(regex='_n_'))"
   ]
  },
  {
   "cell_type": "code",
   "execution_count": 76,
   "metadata": {},
   "outputs": [
    {
     "name": "stdout",
     "output_type": "stream",
     "text": [
      "y\n"
     ]
    }
   ],
   "source": [
    "if (\"b5_ext_n_a\" in df_p_R.filter(regex='_n_')) == True :\n",
    "    print(\"y\")"
   ]
  },
  {
   "cell_type": "code",
   "execution_count": 233,
   "metadata": {},
   "outputs": [],
   "source": [
    "def reverse_code_big5(df):\n",
    "    for i in df:\n",
    "        if (f\"{i}\" in df.filter(regex='_neg')) == True :\n",
    "            new_column_name = i.replace(\"_neg\", \"\")\n",
    "            df[new_column_name] = 6 - df[i] #Subtrack 6 to reverse code(6-1(lowest)=5(highest))\n",
    "    return df"
   ]
  },
  {
   "cell_type": "code",
   "execution_count": 234,
   "metadata": {},
   "outputs": [],
   "source": [
    "df_p_R = reverse_code_big5(df_p_R)"
   ]
  },
  {
   "cell_type": "code",
   "execution_count": 198,
   "metadata": {},
   "outputs": [],
   "source": [
    "df_p_R[\"b5_ext\"] = df_p_R[df_p_R.columns.drop(list(df_p_R.filter(regex=\"_n\")))].filter(regex='b5_ext').mean(axis=1) #creates the average as a new column"
   ]
  },
  {
   "cell_type": "code",
   "execution_count": 236,
   "metadata": {},
   "outputs": [],
   "source": [
    "#BUNA FONKSİYON YAZILIR MI? Data standart bir şey?\n",
    "def average_big5(df):\n",
    "    facets = [\"ext\", \"agree\", \"consc\", \"neu\", \"open\"]\n",
    "    for i in facets:\n",
    "        df[f\"b5_{i}\"] = df[df.columns.drop(list(df.filter(regex=\"_neg\")))].filter(regex=f\"b5_{i}\").mean(axis=1)\n",
    "    return df"
   ]
  },
  {
   "cell_type": "code",
   "execution_count": 256,
   "metadata": {},
   "outputs": [
    {
     "data": {
      "text/plain": [
       "3.117224880382775"
      ]
     },
     "execution_count": 256,
     "metadata": {},
     "output_type": "execute_result"
    }
   ],
   "source": [
    "df_p_R[\"b5_ext_a\"].mean()"
   ]
  },
  {
   "cell_type": "code",
   "execution_count": 251,
   "metadata": {},
   "outputs": [
    {
     "data": {
      "text/plain": [
       "4.0"
      ]
     },
     "execution_count": 251,
     "metadata": {},
     "output_type": "execute_result"
    }
   ],
   "source": [
    "(df_p_R[\"b5_ext\"].max() + 1) - 2"
   ]
  },
  {
   "cell_type": "markdown",
   "metadata": {},
   "source": [
    "## EFFORT - REWARD"
   ]
  },
  {
   "cell_type": "code",
   "execution_count": 273,
   "metadata": {},
   "outputs": [
    {
     "data": {
      "text/plain": [
       "2.706807310630399"
      ]
     },
     "execution_count": 273,
     "metadata": {},
     "output_type": "execute_result"
    }
   ],
   "source": [
    "df_p_R[\"eri_reward\"].mean()"
   ]
  },
  {
   "cell_type": "markdown",
   "metadata": {},
   "source": [
    "## GENDER ROLE"
   ]
  },
  {
   "cell_type": "code",
   "execution_count": 282,
   "metadata": {},
   "outputs": [],
   "source": [
    "def average_genrole(df):\n",
    "    df[\"genrole_traditional\"] = df.filter(regex=\"traditional\").mean(axis=1)\n",
    "    return df"
   ]
  },
  {
   "cell_type": "code",
   "execution_count": 286,
   "metadata": {},
   "outputs": [
    {
     "data": {
      "text/plain": [
       "Index(['p_id', 'survey_year', 'survey_mon', 'sex', 'age', 'religiosity',\n",
       "       'PA0100', 'PA0300', 'PA0800', 'PA0900',\n",
       "       ...\n",
       "       'eri_reward_c', 'eri_reward_d', 'b5_ext', 'b5_agree', 'b5_consc',\n",
       "       'b5_neu', 'b5_open', 'eri_effort', 'eri_reward', 'genrole_traditional'],\n",
       "      dtype='object', length=103)"
      ]
     },
     "execution_count": 286,
     "metadata": {},
     "output_type": "execute_result"
    }
   ],
   "source": [
    "df_p_R.columns"
   ]
  },
  {
   "cell_type": "markdown",
   "metadata": {},
   "source": []
  },
  {
   "cell_type": "markdown",
   "metadata": {},
   "source": [
    "# CSV OLD CODE\n"
   ]
  },
  {
   "cell_type": "code",
   "execution_count": null,
   "metadata": {},
   "outputs": [],
   "source": [
    "# Aslında bu file formatında yazmaya çalıştım ama nedense run etmiyor. Sende ediyor mu??\n",
    "# Gerçi bunu projeye koymasak da olur --ays\n",
    "\"\"\"\n",
    "This file contains code to create list of\n",
    "variables in PPENDDAT dataset.\n",
    "\"\"\"\n",
    "import numpy as np\n",
    "import pandas as pd\n",
    "\n",
    "penddat = pd.read_stata(\"../../original_data/PENDDAT_cf_W11.dta\")\n",
    "np.savetxt(\"penddat_renaming.csv\", list(penddat), delimiter=\" ;\", fmt=\"% s\")"
   ]
  },
  {
   "cell_type": "markdown",
   "metadata": {},
   "source": [
    "# SUMMARY STATS"
   ]
  },
  {
   "cell_type": "code",
   "execution_count": 2,
   "metadata": {},
   "outputs": [],
   "source": [
    "from src.config import BLD\n",
    "from src.config import SRC\n",
    "import pandas as pd\n",
    "import numpy as np\n",
    "from pathlib import Path\n",
    "import matplotlib.pyplot as plt"
   ]
  },
  {
   "cell_type": "code",
   "execution_count": 3,
   "metadata": {},
   "outputs": [],
   "source": [
    "df_h=pd.read_stata(\"src/original_data/HHENDDAT_cf_W11.dta\",convert_categoricals=False)"
   ]
  },
  {
   "cell_type": "code",
   "execution_count": 4,
   "metadata": {},
   "outputs": [],
   "source": [
    "df_p=pd.read_stata(\"src/original_data/PENDDAT_cf_W11.dta\",convert_categoricals=False)"
   ]
  },
  {
   "cell_type": "code",
   "execution_count": 5,
   "metadata": {},
   "outputs": [],
   "source": [
    "df_h_c = pd.read_pickle(BLD/\"HHENDDAT_clean.pickle\")"
   ]
  },
  {
   "cell_type": "code",
   "execution_count": 6,
   "metadata": {},
   "outputs": [],
   "source": [
    "df_p_c = pd.read_pickle(BLD/\"PENDDAT_clean.pickle\")"
   ]
  },
  {
   "cell_type": "code",
   "execution_count": 7,
   "metadata": {},
   "outputs": [],
   "source": [
    "x = df_p_c.groupby(\"wave\").count()[\"p_id\"].reset_index()[\"wave\"]\n",
    "y = df_p_c.groupby(\"wave\").count()[\"p_id\"].reset_index()[\"p_id\"]"
   ]
  },
  {
   "cell_type": "code",
   "execution_count": 15,
   "metadata": {},
   "outputs": [
    {
     "data": {
      "image/png": "[encoded data removed]",
      "text/plain": [
       "<Figure size 432x288 with 1 Axes>"
      ]
     },
     "metadata": {
      "needs_background": "light"
     },
     "output_type": "display_data"
    }
   ],
   "source": [
    "# number of observation per wave\n",
    "plt.stem(x,y)\n",
    "plt.xticks(x)\n",
    "plt.suptitle('Number of observation per wave')\n",
    "plt.xlabel('Wave')\n",
    "plt.ylabel('Observations')\n",
    "plt.show()"
   ]
  },
  {
   "cell_type": "code",
   "execution_count": 16,
   "metadata": {},
   "outputs": [
    {
     "data": {
      "image/png": "[encoded data removed]",
      "text/plain": [
       "<Figure size 864x432 with 1 Axes>"
      ]
     },
     "metadata": {
      "needs_background": "light"
     },
     "output_type": "display_data"
    }
   ],
   "source": [
    "x=df_p_c.iloc[df_p_c.index.get_level_values('wave') == 11].groupby(\"sex\").count()[\"p_id\"].reset_index()[\"sex\"]\n",
    "y=df_p_c.iloc[df_p_c.index.get_level_values('wave') == 11].groupby(\"sex\").count()[\"p_id\"].reset_index()[\"p_id\"]\n",
    "fig, ax = plt.subplots(figsize=(12,6))\n",
    "#ax.bar(pd.Categorical(df_p_c.sex).rename_categories({1.0:\"male\",2.0:\"female\"}))\n",
    "ax.bar(x,y,width=0.7)\n",
    "plt.xticks([1,2],[\"male\",\"female\"])\n",
    "\n",
    "plt.show()"
   ]
  },
  {
   "cell_type": "code",
   "execution_count": 31,
   "metadata": {},
   "outputs": [
    {
     "ename": "SyntaxError",
     "evalue": "invalid syntax (544169910.py, line 2)",
     "output_type": "error",
     "traceback": [
      "\u001b[0;36m  Input \u001b[0;32mIn [31]\u001b[0;36m\u001b[0m\n\u001b[0;31m    x[[\"p_id, \"sex\"]]\u001b[0m\n\u001b[0m               ^\u001b[0m\n\u001b[0;31mSyntaxError\u001b[0m\u001b[0;31m:\u001b[0m invalid syntax\n"
     ]
    }
   ],
   "source": [
    "\n",
    "x=df_p_c.iloc[df_p_c.index.get_level_values('wave') == 11]"
   ]
  }
 ],
 "metadata": {
  "interpreter": {
   "hash": "fec46e2f2931840eec17fc4f2b9196ac3e799a5c9d8f4e7bad906d029208bd9f"
  },
  "kernelspec": {
   "display_name": "Python 3.9.10 ('pass_data_preparation')",
   "language": "python",
   "name": "python3"
  },
  "language_info": {
   "codemirror_mode": {
    "name": "ipython",
    "version": 3
   },
   "file_extension": ".py",
   "mimetype": "text/x-python",
   "name": "python",
   "nbconvert_exporter": "python",
   "pygments_lexer": "ipython3",
   "version": "3.9.10"
  },
  "orig_nbformat": 4
 },
 "nbformat": 4,
 "nbformat_minor": 2
}
