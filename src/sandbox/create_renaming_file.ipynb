{
 "cells": [
  {
   "cell_type": "markdown",
   "metadata": {},
   "source": [
    "# Creating Renaming CSV Files"
   ]
  },
  {
   "cell_type": "code",
   "execution_count": null,
   "metadata": {},
   "outputs": [],
   "source": [
    "import pandas as pd"
   ]
  },
  {
   "cell_type": "code",
   "execution_count": 37,
   "metadata": {},
   "outputs": [],
   "source": [
    "def  create_renaming_file(path,out_path=\"../../data_management/df_name\"):\n",
    "    \"\"\" This function creates the renaming file for the spesified dataset.\n",
    "    \n",
    "    Args:\n",
    "        path (str): Path to the dataset\n",
    "        our_path (str) : Path to the folder where renaming file is created\n",
    "    Returns:\n",
    "\n",
    "    \"\"\"\n",
    "    label_dict=pd.io.stata.StataReader(path).variable_labels()\n",
    "    df = pd.DataFrame(pd.Series(label_dict), columns=[\"labels\"])\n",
    "    df.index.name = \"raw_name\"\n",
    "    for col in [\"new_name\"]:\n",
    "        df[col] = np.nan\n",
    "    return df.to_csv(\"../../data_management\" + f\"/_renaming.csv\", index=True, sep=\";\")"
   ]
  }
 ],
 "metadata": {
  "interpreter": {
   "hash": "aee8b7b246df8f9039afb4144a1f6fd8d2ca17a180786b69acc140d282b71a49"
  },
  "kernelspec": {
   "display_name": "Python 3.9.10 64-bit",
   "language": "python",
   "name": "python3"
  },
  "language_info": {
   "codemirror_mode": {
    "name": "ipython",
    "version": 3
   },
   "file_extension": ".py",
   "mimetype": "text/x-python",
   "name": "python",
   "nbconvert_exporter": "python",
   "pygments_lexer": "ipython3",
   "version": "3.9.10"
  },
  "orig_nbformat": 4
 },
 "nbformat": 4,
 "nbformat_minor": 2
}
